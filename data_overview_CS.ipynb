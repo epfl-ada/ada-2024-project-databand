{
 "cells": [
  {
   "cell_type": "code",
   "id": "initial_id",
   "metadata": {
    "collapsed": true,
    "ExecuteTime": {
     "end_time": "2024-11-08T14:05:16.380988Z",
     "start_time": "2024-11-08T14:05:16.376124Z"
    }
   },
   "source": [
    "# import libraries \n",
    "import pandas as pd\n",
    "import matplotlib.pyplot as plt\n",
    "import os \n",
    "import math\n",
    "import sys\n",
    "from pathlib import Path\n",
    "import seaborn as sns\n",
    "\n",
    "# Add 'src' to the system path\n",
    "sys.path.append(str(Path().resolve() / 'src'))\n",
    "from src.data.process_data import *\n",
    "from src.data.clean_data import *"
   ],
   "outputs": [],
   "execution_count": 1
  },
  {
   "metadata": {},
   "cell_type": "markdown",
   "source": [
    "IMPORTANT: these scripts/functions assume you have the following files in the data/raw directory:\n",
    "- From the CMU dataset: \n",
    "    - movie.metadata.tsv\n",
    "    - plot_summaries.txt\n",
    "- From the TMDB dataset: \n",
    "    - TMDB_movie_dataset_v11.csv\n",
    "\n",
    "AND have data/processed folder created\n",
    "\n",
    "Note: download CMU dataset here: https://www.cs.cmu.edu/~ark/personas/data/MovieSummaries.tar.gz\n",
    "and TMDB dataset here (Download button): https://www.kaggle.com/datasets/asaniczka/tmdb-movies-dataset-2023-930k-movies"
   ],
   "id": "c46339459a4244c9"
  },
  {
   "metadata": {
    "ExecuteTime": {
     "end_time": "2024-11-08T14:35:38.679439Z",
     "start_time": "2024-11-08T14:35:18.472585Z"
    }
   },
   "cell_type": "code",
   "source": [
    "# from raw files, creates clean datafiles\n",
    "%run src/data/clean_data.py"
   ],
   "id": "3b650f224f68d02",
   "outputs": [
    {
     "name": "stdout",
     "output_type": "stream",
     "text": [
      "sep ,\n",
      "headers []\n",
      "original df shape (1127777, 24)\n",
      "after status (1102507, 24)\n",
      "after release date (760743, 24)\n",
      "after release year (760743, 25)\n",
      "after duplicates (746388, 25)\n",
      "after numeric columns (746387, 25)\n",
      "after select columns (746387, 13)\n",
      "sep \t\n",
      "headers ['wikipedia_movie_id', 'freebase_ID', 'title', 'release_year', 'revenue', 'runtime', 'languages', 'countries', 'genres']\n",
      "original df shape (81740, 9)\n",
      "after status (81740, 9)\n",
      "after release date (81740, 9)\n",
      "after release year (44006, 9)\n",
      "after duplicates (43915, 9)\n",
      "after numeric columns (43915, 9)\n",
      "after select columns (43915, 5)\n"
     ]
    }
   ],
   "execution_count": 21
  },
  {
   "metadata": {
    "ExecuteTime": {
     "end_time": "2024-11-08T14:37:24.016953Z",
     "start_time": "2024-11-08T14:37:12.494599Z"
    }
   },
   "cell_type": "code",
   "source": [
    "# from clean data files, creates a dataframe with CMU + plots & TMDB movies \n",
    "%run src/data/process_data.py\n",
    "df_combined = create_cmu_tmdb_dataset('data/processed/movies.csv','data/processed/plot_summaries.csv', 'data/processed/TMDB_clean.csv')"
   ],
   "id": "4a0c30ee716c06c5",
   "outputs": [],
   "execution_count": 27
  },
  {
   "metadata": {
    "ExecuteTime": {
     "end_time": "2024-11-08T14:37:24.209783Z",
     "start_time": "2024-11-08T14:37:24.028679Z"
    }
   },
   "cell_type": "code",
   "source": "df_combined.info()",
   "id": "87787d7569999d23",
   "outputs": [
    {
     "name": "stdout",
     "output_type": "stream",
     "text": [
      "<class 'pandas.core.frame.DataFrame'>\n",
      "Index: 430770 entries, 0 to 746386\n",
      "Data columns (total 15 columns):\n",
      " #   Column                Non-Null Count   Dtype \n",
      "---  ------                --------------   ----- \n",
      " 0   release_year          430770 non-null  int64 \n",
      " 1   summary               364351 non-null  object\n",
      " 2   release_date          430770 non-null  object\n",
      " 3   budget                430770 non-null  int64 \n",
      " 4   original_language     430770 non-null  object\n",
      " 5   overview              364351 non-null  object\n",
      " 6   genres                430770 non-null  object\n",
      " 7   production_companies  430770 non-null  object\n",
      " 8   production_countries  430770 non-null  object\n",
      " 9   spoken_languages      430770 non-null  object\n",
      " 10  keywords              430770 non-null  object\n",
      " 11  runtime               430770 non-null  int64 \n",
      " 12  revenue               430770 non-null  int64 \n",
      " 13  title                 430767 non-null  object\n",
      " 14  dvd_era               430770 non-null  object\n",
      "dtypes: int64(4), object(11)\n",
      "memory usage: 52.6+ MB\n"
     ]
    }
   ],
   "execution_count": 28
  },
  {
   "metadata": {
    "ExecuteTime": {
     "end_time": "2024-11-08T14:37:24.354981Z",
     "start_time": "2024-11-08T14:37:24.280418Z"
    }
   },
   "cell_type": "code",
   "source": "df_combined.head()",
   "id": "7eb92d13a1306872",
   "outputs": [
    {
     "data": {
      "text/plain": [
       "   release_year                                            summary  \\\n",
       "0          1987  A series of murders of rich young women throug...   \n",
       "1          1983  Eva, an upper class housewife, becomes frustra...   \n",
       "2          2002  Every hundred years, the evil Morgana  returns...   \n",
       "3          1997  Adam, a San Francisco-based artist who works a...   \n",
       "4          1989  {{Plot|dateAct 1Act 2Act 3Act 4Act 5 Finally n...   \n",
       "\n",
       "  release_date   budget original_language  \\\n",
       "0   1987-06-19        0                en   \n",
       "1   1983-05-11        0                de   \n",
       "2   2002-04-12        0                en   \n",
       "3   1997-04-04        0                en   \n",
       "4   1989-10-05  9000000                en   \n",
       "\n",
       "                                            overview  \\\n",
       "0  In a wealthy and isolated desert community, a ...   \n",
       "1  Eva, an upper-class housewife, frustratedly le...   \n",
       "2  Every hundred years, the evil sorceress Morgan...   \n",
       "3  Best friends Adam and Kevin have a lot in comm...   \n",
       "4  Gritty adaption of William Shakespeare's play ...   \n",
       "\n",
       "                         genres  \\\n",
       "0            [Horror, Thriller]   \n",
       "1                       [Drama]   \n",
       "2  [Adventure, Family, Fantasy]   \n",
       "3             [Comedy, Romance]   \n",
       "4         [War, Drama, History]   \n",
       "\n",
       "                                production_companies production_countries  \\\n",
       "0                         [Mrs. White's Productions]     [United Kingdom]   \n",
       "1                   [Dieter Geissler Filmproduktion]            [Germany]   \n",
       "2  [Peakviewing Productions, Peakviewing Transatl...     [United Kingdom]   \n",
       "3                  [Bandeira Entertainment, Miramax]                   []   \n",
       "4  [BBC Film, Renaissance Films, Samuel Goldwyn C...     [United Kingdom]   \n",
       "\n",
       "    spoken_languages                                           keywords  \\\n",
       "0          [English]  [based on novel or book, gas station, psychopa...   \n",
       "1           [German]  [jealousy, eroticism, gigolo, longing, dominat...   \n",
       "2  [French, English]                                          [morgana]   \n",
       "3          [English]                                                 []   \n",
       "4          [English]  [france, kingdom, theater play, based on true ...   \n",
       "\n",
       "   runtime   revenue                                              title  \\\n",
       "0      221         0                   White Of The EyeWhite of the Eye   \n",
       "1      212         0                 A Woman in FlamesA Woman in Flames   \n",
       "2      172         0  The Sorcerer's ApprenticeThe Sorcerer's Appren...   \n",
       "3      183         0                             Little cityLittle City   \n",
       "4      274  20337800                                     Henry VHenry V   \n",
       "\n",
       "  dvd_era  \n",
       "0     pre  \n",
       "1     pre  \n",
       "2  during  \n",
       "3     pre  \n",
       "4     pre  "
      ],
      "text/html": [
       "<div>\n",
       "<style scoped>\n",
       "    .dataframe tbody tr th:only-of-type {\n",
       "        vertical-align: middle;\n",
       "    }\n",
       "\n",
       "    .dataframe tbody tr th {\n",
       "        vertical-align: top;\n",
       "    }\n",
       "\n",
       "    .dataframe thead th {\n",
       "        text-align: right;\n",
       "    }\n",
       "</style>\n",
       "<table border=\"1\" class=\"dataframe\">\n",
       "  <thead>\n",
       "    <tr style=\"text-align: right;\">\n",
       "      <th></th>\n",
       "      <th>release_year</th>\n",
       "      <th>summary</th>\n",
       "      <th>release_date</th>\n",
       "      <th>budget</th>\n",
       "      <th>original_language</th>\n",
       "      <th>overview</th>\n",
       "      <th>genres</th>\n",
       "      <th>production_companies</th>\n",
       "      <th>production_countries</th>\n",
       "      <th>spoken_languages</th>\n",
       "      <th>keywords</th>\n",
       "      <th>runtime</th>\n",
       "      <th>revenue</th>\n",
       "      <th>title</th>\n",
       "      <th>dvd_era</th>\n",
       "    </tr>\n",
       "  </thead>\n",
       "  <tbody>\n",
       "    <tr>\n",
       "      <th>0</th>\n",
       "      <td>1987</td>\n",
       "      <td>A series of murders of rich young women throug...</td>\n",
       "      <td>1987-06-19</td>\n",
       "      <td>0</td>\n",
       "      <td>en</td>\n",
       "      <td>In a wealthy and isolated desert community, a ...</td>\n",
       "      <td>[Horror, Thriller]</td>\n",
       "      <td>[Mrs. White's Productions]</td>\n",
       "      <td>[United Kingdom]</td>\n",
       "      <td>[English]</td>\n",
       "      <td>[based on novel or book, gas station, psychopa...</td>\n",
       "      <td>221</td>\n",
       "      <td>0</td>\n",
       "      <td>White Of The EyeWhite of the Eye</td>\n",
       "      <td>pre</td>\n",
       "    </tr>\n",
       "    <tr>\n",
       "      <th>1</th>\n",
       "      <td>1983</td>\n",
       "      <td>Eva, an upper class housewife, becomes frustra...</td>\n",
       "      <td>1983-05-11</td>\n",
       "      <td>0</td>\n",
       "      <td>de</td>\n",
       "      <td>Eva, an upper-class housewife, frustratedly le...</td>\n",
       "      <td>[Drama]</td>\n",
       "      <td>[Dieter Geissler Filmproduktion]</td>\n",
       "      <td>[Germany]</td>\n",
       "      <td>[German]</td>\n",
       "      <td>[jealousy, eroticism, gigolo, longing, dominat...</td>\n",
       "      <td>212</td>\n",
       "      <td>0</td>\n",
       "      <td>A Woman in FlamesA Woman in Flames</td>\n",
       "      <td>pre</td>\n",
       "    </tr>\n",
       "    <tr>\n",
       "      <th>2</th>\n",
       "      <td>2002</td>\n",
       "      <td>Every hundred years, the evil Morgana  returns...</td>\n",
       "      <td>2002-04-12</td>\n",
       "      <td>0</td>\n",
       "      <td>en</td>\n",
       "      <td>Every hundred years, the evil sorceress Morgan...</td>\n",
       "      <td>[Adventure, Family, Fantasy]</td>\n",
       "      <td>[Peakviewing Productions, Peakviewing Transatl...</td>\n",
       "      <td>[United Kingdom]</td>\n",
       "      <td>[French, English]</td>\n",
       "      <td>[morgana]</td>\n",
       "      <td>172</td>\n",
       "      <td>0</td>\n",
       "      <td>The Sorcerer's ApprenticeThe Sorcerer's Appren...</td>\n",
       "      <td>during</td>\n",
       "    </tr>\n",
       "    <tr>\n",
       "      <th>3</th>\n",
       "      <td>1997</td>\n",
       "      <td>Adam, a San Francisco-based artist who works a...</td>\n",
       "      <td>1997-04-04</td>\n",
       "      <td>0</td>\n",
       "      <td>en</td>\n",
       "      <td>Best friends Adam and Kevin have a lot in comm...</td>\n",
       "      <td>[Comedy, Romance]</td>\n",
       "      <td>[Bandeira Entertainment, Miramax]</td>\n",
       "      <td>[]</td>\n",
       "      <td>[English]</td>\n",
       "      <td>[]</td>\n",
       "      <td>183</td>\n",
       "      <td>0</td>\n",
       "      <td>Little cityLittle City</td>\n",
       "      <td>pre</td>\n",
       "    </tr>\n",
       "    <tr>\n",
       "      <th>4</th>\n",
       "      <td>1989</td>\n",
       "      <td>{{Plot|dateAct 1Act 2Act 3Act 4Act 5 Finally n...</td>\n",
       "      <td>1989-10-05</td>\n",
       "      <td>9000000</td>\n",
       "      <td>en</td>\n",
       "      <td>Gritty adaption of William Shakespeare's play ...</td>\n",
       "      <td>[War, Drama, History]</td>\n",
       "      <td>[BBC Film, Renaissance Films, Samuel Goldwyn C...</td>\n",
       "      <td>[United Kingdom]</td>\n",
       "      <td>[English]</td>\n",
       "      <td>[france, kingdom, theater play, based on true ...</td>\n",
       "      <td>274</td>\n",
       "      <td>20337800</td>\n",
       "      <td>Henry VHenry V</td>\n",
       "      <td>pre</td>\n",
       "    </tr>\n",
       "  </tbody>\n",
       "</table>\n",
       "</div>"
      ]
     },
     "execution_count": 29,
     "metadata": {},
     "output_type": "execute_result"
    }
   ],
   "execution_count": 29
  },
  {
   "metadata": {},
   "cell_type": "markdown",
   "source": "# Production countries",
   "id": "24739d67c4727d1f"
  },
  {
   "metadata": {
    "ExecuteTime": {
     "end_time": "2024-11-08T14:37:28.921566Z",
     "start_time": "2024-11-08T14:37:28.843154Z"
    }
   },
   "cell_type": "code",
   "source": "df_combined.groupby('dvd_era')['production_countries'].apply(lambda x: [country for sublist in x for country in sublist]).reset_index()",
   "id": "62cabfe5c23e7698",
   "outputs": [
    {
     "data": {
      "text/plain": [
       "  dvd_era                               production_countries\n",
       "0  during  [United Kingdom, United States of America, Aus...\n",
       "1    post  [United States of America, India, Germany, Pol...\n",
       "2     pre  [United Kingdom, Germany, United Kingdom, Indi..."
      ],
      "text/html": [
       "<div>\n",
       "<style scoped>\n",
       "    .dataframe tbody tr th:only-of-type {\n",
       "        vertical-align: middle;\n",
       "    }\n",
       "\n",
       "    .dataframe tbody tr th {\n",
       "        vertical-align: top;\n",
       "    }\n",
       "\n",
       "    .dataframe thead th {\n",
       "        text-align: right;\n",
       "    }\n",
       "</style>\n",
       "<table border=\"1\" class=\"dataframe\">\n",
       "  <thead>\n",
       "    <tr style=\"text-align: right;\">\n",
       "      <th></th>\n",
       "      <th>dvd_era</th>\n",
       "      <th>production_countries</th>\n",
       "    </tr>\n",
       "  </thead>\n",
       "  <tbody>\n",
       "    <tr>\n",
       "      <th>0</th>\n",
       "      <td>during</td>\n",
       "      <td>[United Kingdom, United States of America, Aus...</td>\n",
       "    </tr>\n",
       "    <tr>\n",
       "      <th>1</th>\n",
       "      <td>post</td>\n",
       "      <td>[United States of America, India, Germany, Pol...</td>\n",
       "    </tr>\n",
       "    <tr>\n",
       "      <th>2</th>\n",
       "      <td>pre</td>\n",
       "      <td>[United Kingdom, Germany, United Kingdom, Indi...</td>\n",
       "    </tr>\n",
       "  </tbody>\n",
       "</table>\n",
       "</div>"
      ]
     },
     "execution_count": 30,
     "metadata": {},
     "output_type": "execute_result"
    }
   ],
   "execution_count": 30
  },
  {
   "metadata": {},
   "cell_type": "code",
   "outputs": [],
   "execution_count": null,
   "source": "",
   "id": "fd6e982f00e7068"
  }
 ],
 "metadata": {
  "kernelspec": {
   "display_name": "Python 3",
   "language": "python",
   "name": "python3"
  },
  "language_info": {
   "codemirror_mode": {
    "name": "ipython",
    "version": 2
   },
   "file_extension": ".py",
   "mimetype": "text/x-python",
   "name": "python",
   "nbconvert_exporter": "python",
   "pygments_lexer": "ipython2",
   "version": "2.7.6"
  }
 },
 "nbformat": 4,
 "nbformat_minor": 5
}
